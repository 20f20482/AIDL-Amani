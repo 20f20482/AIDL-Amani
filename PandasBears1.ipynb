{
  "nbformat": 4,
  "nbformat_minor": 0,
  "metadata": {
    "colab": {
      "provenance": []
    },
    "kernelspec": {
      "name": "python3",
      "display_name": "Python 3"
    },
    "language_info": {
      "name": "python"
    }
  },
  "cells": [
    {
      "cell_type": "code",
      "execution_count": 1,
      "metadata": {
        "colab": {
          "base_uri": "https://localhost:8080/"
        },
        "id": "4fcmJ93UorqF",
        "outputId": "0001bcc2-e95d-483e-b137-074e706992f2"
      },
      "outputs": [
        {
          "output_type": "stream",
          "name": "stdout",
          "text": [
            "Mounted at /content/drive\n"
          ]
        }
      ],
      "source": [
        "from google.colab import drive\n",
        "drive.mount('/content/drive', force_remount=True)"
      ]
    },
    {
      "cell_type": "code",
      "source": [
        "train_dir = '/content/drive/MyDrive/AI/Train'\n",
        "test_dir = '/content/drive/MyDrive/AI/Test'"
      ],
      "metadata": {
        "id": "hC1ifedLo8i-"
      },
      "execution_count": 2,
      "outputs": []
    },
    {
      "cell_type": "code",
      "source": [
        "import os\n",
        "print(len(os.listdir('/content/drive/MyDrive/AI/Train/Bears')))\n",
        "print(len(os.listdir('/content/drive/MyDrive/AI/Train/Pandas')))\n",
        "print(len(os.listdir('/content/drive/MyDrive/AI/Test/Bears')))\n",
        "print(len(os.listdir('/content/drive/MyDrive/AI/Test/Pandas')))\n",
        ""
      ],
      "metadata": {
        "colab": {
          "base_uri": "https://localhost:8080/"
        },
        "id": "--kxhK0ApFRQ",
        "outputId": "85b7292d-93c7-4c9f-f11e-f377ab74c217"
      },
      "execution_count": 3,
      "outputs": [
        {
          "output_type": "stream",
          "name": "stdout",
          "text": [
            "250\n",
            "250\n",
            "50\n",
            "50\n"
          ]
        }
      ]
    },
    {
      "cell_type": "code",
      "source": [
        "import tensorflow as tf\n",
        "from tensorflow.keras.preprocessing.image import ImageDataGenerator\n",
        "\n",
        "# Create ImageDataGenerator for training set\n",
        "train_datagen = ImageDataGenerator(\n",
        "    rescale=1./255,\n",
        "    validation_split=0.2  # Split 20% of the images for validation\n",
        ")\n",
        "\n",
        "# Load and prepare training data\n",
        "train_data = train_datagen.flow_from_directory(\n",
        "    train_dir,\n",
        "    target_size=(256,256),\n",
        "    batch_size=32,\n",
        "    class_mode='binary',  # 'binary' for binary classification (Pandas vs. Bears)\n",
        "    subset='training'  # Specify 'training' for the training set\n",
        ")\n",
        "\n",
        "# Create ImageDataGenerator for validation set\n",
        "validation_datagen = ImageDataGenerator(\n",
        "    rescale=1./255,\n",
        "    validation_split=0.2\n",
        ")\n",
        "\n",
        "# Load and prepare validation data\n",
        "validation_data = validation_datagen.flow_from_directory(\n",
        "    train_dir,\n",
        "    target_size=(256,256),\n",
        "    batch_size=32,\n",
        "    class_mode='binary',\n",
        "    subset='validation'  # Specify 'validation' for the validation set\n",
        ")"
      ],
      "metadata": {
        "colab": {
          "base_uri": "https://localhost:8080/"
        },
        "id": "8evyXWw7pH70",
        "outputId": "f9c08785-a29a-488a-9711-45792c5e0889"
      },
      "execution_count": 4,
      "outputs": [
        {
          "output_type": "stream",
          "name": "stdout",
          "text": [
            "Found 400 images belonging to 2 classes.\n",
            "Found 100 images belonging to 2 classes.\n"
          ]
        }
      ]
    },
    {
      "cell_type": "code",
      "source": [
        "from tensorflow import keras\n",
        "from keras import Sequential\n",
        "from keras.layers import Dense,Conv2D,MaxPooling2D,Flatten\n",
        "\n",
        "resnet_model = Sequential()    #ResNet50 is a pre-trained model\n",
        "pretrained_model = tf.keras.applications.ResNet50(include_top = False, #because i have my own image of a diff dimension\n",
        "                                                input_shape = (256,256,3),\n",
        "                                                pooling = 'max', classes = 2,\n",
        "                                                weights = 'imagenet')\n",
        "for layer in pretrained_model.layers:\n",
        "    layer.trainable = False  #all layers in the Resnet50 is not trainable; keep those weights; I am going to add my own i/p and other layers\n",
        "\n",
        "resnet_model.add(pretrained_model)\n",
        "resnet_model.add(Flatten())\n",
        "resnet_model.add(Dense(512, activation = 'relu'))\n",
        "resnet_model.add(Dense(1, activation = 'sigmoid'))"
      ],
      "metadata": {
        "colab": {
          "base_uri": "https://localhost:8080/"
        },
        "id": "xeBzEu4Kpnhs",
        "outputId": "758a702a-5bd8-44e8-d6c9-49265cac4dd6"
      },
      "execution_count": 5,
      "outputs": [
        {
          "output_type": "stream",
          "name": "stdout",
          "text": [
            "Downloading data from https://storage.googleapis.com/tensorflow/keras-applications/resnet/resnet50_weights_tf_dim_ordering_tf_kernels_notop.h5\n",
            "94765736/94765736 [==============================] - 1s 0us/step\n"
          ]
        }
      ]
    },
    {
      "cell_type": "code",
      "source": [
        "resnet_model.summary()"
      ],
      "metadata": {
        "colab": {
          "base_uri": "https://localhost:8080/"
        },
        "id": "i05L_tqrqBDF",
        "outputId": "91adebd6-f725-4884-b15d-6c8569adb52f"
      },
      "execution_count": 6,
      "outputs": [
        {
          "output_type": "stream",
          "name": "stdout",
          "text": [
            "Model: \"sequential\"\n",
            "_________________________________________________________________\n",
            " Layer (type)                Output Shape              Param #   \n",
            "=================================================================\n",
            " resnet50 (Functional)       (None, 2048)              23587712  \n",
            "                                                                 \n",
            " flatten (Flatten)           (None, 2048)              0         \n",
            "                                                                 \n",
            " dense (Dense)               (None, 512)               1049088   \n",
            "                                                                 \n",
            " dense_1 (Dense)             (None, 1)                 513       \n",
            "                                                                 \n",
            "=================================================================\n",
            "Total params: 24637313 (93.98 MB)\n",
            "Trainable params: 1049601 (4.00 MB)\n",
            "Non-trainable params: 23587712 (89.98 MB)\n",
            "_________________________________________________________________\n"
          ]
        }
      ]
    },
    {
      "cell_type": "code",
      "source": [
        "from keras.optimizers import Adam\n",
        "resnet_model.compile(optimizer=Adam(learning_rate=0.001),loss='binary_crossentropy',metrics=['accuracy'])"
      ],
      "metadata": {
        "id": "H89b8LqmqFjc"
      },
      "execution_count": 7,
      "outputs": []
    },
    {
      "cell_type": "code",
      "source": [
        "history = resnet_model.fit(train_data, epochs=3, validation_data=validation_data)"
      ],
      "metadata": {
        "colab": {
          "base_uri": "https://localhost:8080/"
        },
        "id": "GRZyx2BYqJE6",
        "outputId": "161f0fc2-d52c-4c7c-bc1d-b5912bfb8c63"
      },
      "execution_count": 8,
      "outputs": [
        {
          "output_type": "stream",
          "name": "stdout",
          "text": [
            "Epoch 1/3\n",
            "13/13 [==============================] - 196s 14s/step - loss: 2.6001 - accuracy: 0.5800 - val_loss: 0.3477 - val_accuracy: 0.8600\n",
            "Epoch 2/3\n",
            "13/13 [==============================] - 146s 11s/step - loss: 0.3021 - accuracy: 0.8975 - val_loss: 0.2421 - val_accuracy: 0.8800\n",
            "Epoch 3/3\n",
            "13/13 [==============================] - 144s 11s/step - loss: 0.1145 - accuracy: 0.9600 - val_loss: 0.0645 - val_accuracy: 0.9900\n"
          ]
        }
      ]
    },
    {
      "cell_type": "code",
      "source": [
        "import matplotlib.pyplot as plt\n",
        "\n",
        "plt.plot(history.history['accuracy'],color='black',label='train')\n",
        "plt.plot(history.history['val_accuracy'],color='blue',label='validation')\n",
        "plt.legend()\n",
        "plt.show()"
      ],
      "metadata": {
        "colab": {
          "base_uri": "https://localhost:8080/",
          "height": 430
        },
        "id": "V87oc7RtsUck",
        "outputId": "70b9ffac-bdf9-4a22-cdd3-bc1eed2a3607"
      },
      "execution_count": 9,
      "outputs": [
        {
          "output_type": "display_data",
          "data": {
            "text/plain": [
              "<Figure size 640x480 with 1 Axes>"
            ],
            "image/png": "[encoded data removed]"
          },
          "metadata": {}
        }
      ]
    },
    {
      "cell_type": "code",
      "source": [
        "plt.plot(history.history['loss'],color='pink',label='train')\n",
        "plt.plot(history.history['val_loss'],color='green',label='validation')\n",
        "plt.legend()\n",
        "plt.show()"
      ],
      "metadata": {
        "colab": {
          "base_uri": "https://localhost:8080/",
          "height": 430
        },
        "id": "OcOKWmMRsawB",
        "outputId": "70d199b9-7510-49be-f3f8-d6028a5456f9"
      },
      "execution_count": 10,
      "outputs": [
        {
          "output_type": "display_data",
          "data": {
            "text/plain": [
              "<Figure size 640x480 with 1 Axes>"
            ],
            "image/png": "[encoded data removed]"
          },
          "metadata": {}
        }
      ]
    },
    {
      "cell_type": "code",
      "source": [
        "test_datagen = ImageDataGenerator(rescale=1./255)\n",
        "test_data = test_datagen.flow_from_directory(\n",
        "    test_dir,\n",
        "    target_size=(256,256),\n",
        "    batch_size=32,\n",
        "    class_mode='binary'\n",
        ")"
      ],
      "metadata": {
        "colab": {
          "base_uri": "https://localhost:8080/"
        },
        "id": "HJQeVs91sihB",
        "outputId": "256a2ae1-0899-4844-e312-eb78f0962cf2"
      },
      "execution_count": 11,
      "outputs": [
        {
          "output_type": "stream",
          "name": "stdout",
          "text": [
            "Found 100 images belonging to 2 classes.\n"
          ]
        }
      ]
    },
    {
      "cell_type": "code",
      "source": [
        "#predict the test data\n",
        "predictions = resnet_model.predict(test_data)\n",
        "print(predictions)"
      ],
      "metadata": {
        "colab": {
          "base_uri": "https://localhost:8080/"
        },
        "id": "MmfYryVksmqD",
        "outputId": "07427913-0658-42ed-feb7-985aff97e012"
      },
      "execution_count": 12,
      "outputs": [
        {
          "output_type": "stream",
          "name": "stdout",
          "text": [
            "4/4 [==============================] - 33s 7s/step\n",
            "[[0.9995686 ]\n",
            " [0.89555055]\n",
            " [0.9906632 ]\n",
            " [0.02582899]\n",
            " [0.10012626]\n",
            " [0.09267906]\n",
            " [0.99999857]\n",
            " [0.01497675]\n",
            " [0.99994785]\n",
            " [0.99905145]\n",
            " [0.99983853]\n",
            " [0.01177575]\n",
            " [0.04495561]\n",
            " [0.9915077 ]\n",
            " [0.99999917]\n",
            " [0.04118504]\n",
            " [0.00434316]\n",
            " [0.9996638 ]\n",
            " [0.9997986 ]\n",
            " [0.9965906 ]\n",
            " [0.0206878 ]\n",
            " [0.00759517]\n",
            " [0.9999263 ]\n",
            " [0.999832  ]\n",
            " [0.9554173 ]\n",
            " [0.34051433]\n",
            " [0.01775981]\n",
            " [0.00438965]\n",
            " [0.996426  ]\n",
            " [0.95043445]\n",
            " [0.9954265 ]\n",
            " [0.9999969 ]\n",
            " [0.9926487 ]\n",
            " [0.9999999 ]\n",
            " [0.08529615]\n",
            " [0.00399402]\n",
            " [0.17762367]\n",
            " [0.00312965]\n",
            " [0.04885152]\n",
            " [0.01031477]\n",
            " [0.9965608 ]\n",
            " [0.02101094]\n",
            " [0.7822774 ]\n",
            " [0.99661773]\n",
            " [0.0125846 ]\n",
            " [0.01170013]\n",
            " [0.99973196]\n",
            " [0.9301907 ]\n",
            " [0.9996846 ]\n",
            " [0.9971889 ]\n",
            " [0.01132005]\n",
            " [0.99940217]\n",
            " [0.02190619]\n",
            " [0.00747195]\n",
            " [0.01002064]\n",
            " [0.99995863]\n",
            " [0.007865  ]\n",
            " [0.0206269 ]\n",
            " [0.00265381]\n",
            " [0.59843993]\n",
            " [0.99894756]\n",
            " [0.99999106]\n",
            " [0.99992174]\n",
            " [0.03676662]\n",
            " [0.01667606]\n",
            " [0.9195874 ]\n",
            " [0.9999792 ]\n",
            " [0.99999046]\n",
            " [0.02485921]\n",
            " [0.006635  ]\n",
            " [0.00621945]\n",
            " [0.00371123]\n",
            " [0.99983096]\n",
            " [0.99990463]\n",
            " [0.99908036]\n",
            " [0.9999745 ]\n",
            " [0.00475524]\n",
            " [0.0182998 ]\n",
            " [0.18140364]\n",
            " [0.35803172]\n",
            " [0.00749646]\n",
            " [0.01282263]\n",
            " [0.04884427]\n",
            " [0.07585026]\n",
            " [0.9999617 ]\n",
            " [0.01237675]\n",
            " [0.8878805 ]\n",
            " [0.999913  ]\n",
            " [0.97746396]\n",
            " [0.27599847]\n",
            " [0.99960834]\n",
            " [0.00380732]\n",
            " [0.19327633]\n",
            " [0.99921155]\n",
            " [0.01062789]\n",
            " [0.98466283]\n",
            " [0.03093098]\n",
            " [0.01297555]\n",
            " [0.00296929]\n",
            " [0.99664843]]\n"
          ]
        }
      ]
    },
    {
      "cell_type": "code",
      "source": [
        "len(predictions)"
      ],
      "metadata": {
        "colab": {
          "base_uri": "https://localhost:8080/"
        },
        "id": "607KkdNis6Nb",
        "outputId": "ea786060-9802-4786-d795-b36f241e2044"
      },
      "execution_count": 13,
      "outputs": [
        {
          "output_type": "execute_result",
          "data": {
            "text/plain": [
              "100"
            ]
          },
          "metadata": {},
          "execution_count": 13
        }
      ]
    },
    {
      "cell_type": "code",
      "source": [
        "from sklearn.metrics import confusion_matrix, classification_report\n",
        "\n",
        "# Assuming you have ground truth labels (true_labels) and predicted labels (predictions)\n",
        "true_labels = test_data.classes\n",
        "predicted_labels = (predictions > 0.5).astype(int)\n",
        "\n",
        "# Calculate confusion matrix\n",
        "cm = confusion_matrix(true_labels, predicted_labels)\n",
        "\n",
        "# Print confusion matrix\n",
        "print(\"Confusion Matrix:\")\n",
        "print(cm)\n",
        "\n",
        "# Print classification report\n",
        "print(\"Classification Report:\")\n",
        "print(classification_report(true_labels, predicted_labels))"
      ],
      "metadata": {
        "id": "n48QGmMMs-18",
        "outputId": "9e78edd9-8a31-4c7e-d264-dbdca68f54fa",
        "colab": {
          "base_uri": "https://localhost:8080/"
        }
      },
      "execution_count": 14,
      "outputs": [
        {
          "output_type": "stream",
          "name": "stdout",
          "text": [
            "Confusion Matrix:\n",
            "[[22 28]\n",
            " [29 21]]\n",
            "Classification Report:\n",
            "              precision    recall  f1-score   support\n",
            "\n",
            "           0       0.43      0.44      0.44        50\n",
            "           1       0.43      0.42      0.42        50\n",
            "\n",
            "    accuracy                           0.43       100\n",
            "   macro avg       0.43      0.43      0.43       100\n",
            "weighted avg       0.43      0.43      0.43       100\n",
            "\n"
          ]
        }
      ]
    }
  ]
}